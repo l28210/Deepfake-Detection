{
 "cells": [
  {
   "cell_type": "code",
   "execution_count": 1,
   "metadata": {},
   "outputs": [
    {
     "name": "stdout",
     "output_type": "stream",
     "text": [
      "(256, 256, 3)\n"
     ]
    }
   ],
   "source": [
    "import cv2\n",
    "import numpy as np\n",
    "\n",
    "# 读取图片\n",
    "image = cv2.imread(\"/home/l/test_self/deepfake_detect/data/archive/real_vs_fake/real-vs-fake/test/fake/0COHPC8N1I.jpg\")  # 请替换成你的图片路径\n",
    "# OpenCV 读取的是 BGR 格式，需要转换为 RGB\n",
    "image_rgb = cv2.cvtColor(image, cv2.COLOR_BGR2RGB)\n",
    "\n",
    "# 获取 RGB 矩阵\n",
    "rgb_matrix = np.array(image_rgb)\n",
    "print(rgb_matrix.shape)  # (height, width, 3)\n"
   ]
  },
  {
   "cell_type": "code",
   "execution_count": 2,
   "metadata": {},
   "outputs": [],
   "source": [
    "import matplotlib.pyplot as plt\n",
    "\n",
    "# plt.imshow(image)"
   ]
  },
  {
   "cell_type": "code",
   "execution_count": 3,
   "metadata": {},
   "outputs": [],
   "source": [
    "import matplotlib.pyplot as plt\n",
    "\n",
    "# plt.imshow(rgb_matrix)"
   ]
  },
  {
   "cell_type": "code",
   "execution_count": 5,
   "metadata": {},
   "outputs": [
    {
     "name": "stderr",
     "output_type": "stream",
     "text": [
      "/home/l/anaconda3/envs/deepfake_detect/lib/python3.9/site-packages/tqdm/auto.py:21: TqdmWarning: IProgress not found. Please update jupyter and ipywidgets. See https://ipywidgets.readthedocs.io/en/stable/user_install.html\n",
      "  from .autonotebook import tqdm as notebook_tqdm\n"
     ]
    },
    {
     "name": "stdout",
     "output_type": "stream",
     "text": [
      "drop path: Identity()\n",
      "drop path: DropPath(drop_prob=0.013)\n",
      "drop path: DropPath(drop_prob=0.026)\n",
      "drop path: DropPath(drop_prob=0.039)\n",
      "drop path: DropPath(drop_prob=0.052)\n",
      "drop path: DropPath(drop_prob=0.065)\n",
      "drop path: DropPath(drop_prob=0.078)\n",
      "drop path: DropPath(drop_prob=0.091)\n",
      "drop path: DropPath(drop_prob=0.104)\n",
      "drop path: DropPath(drop_prob=0.117)\n",
      "drop path: DropPath(drop_prob=0.130)\n",
      "drop path: DropPath(drop_prob=0.143)\n",
      "drop path: DropPath(drop_prob=0.157)\n",
      "drop path: DropPath(drop_prob=0.170)\n",
      "drop path: DropPath(drop_prob=0.183)\n",
      "drop path: DropPath(drop_prob=0.196)\n",
      "drop path: DropPath(drop_prob=0.209)\n",
      "drop path: DropPath(drop_prob=0.222)\n",
      "drop path: DropPath(drop_prob=0.235)\n",
      "drop path: DropPath(drop_prob=0.248)\n",
      "drop path: DropPath(drop_prob=0.261)\n",
      "drop path: DropPath(drop_prob=0.274)\n",
      "drop path: DropPath(drop_prob=0.287)\n",
      "drop path: DropPath(drop_prob=0.300)\n"
     ]
    }
   ],
   "source": [
    "import sys\n",
    "sys.path.append('/home/l/test_self/deepfake_detect')\n",
    "\n",
    "from model.replknet import *\n",
    "import torch\n",
    "\n",
    "model=create_RepLKNet31B()\n",
    "\n",
    "x=torch.tensor(rgb_matrix)"
   ]
  },
  {
   "cell_type": "code",
   "execution_count": 6,
   "metadata": {},
   "outputs": [
    {
     "name": "stdout",
     "output_type": "stream",
     "text": [
      "(256, 256, 3)\n",
      "drop path: Identity()\n",
      "drop path: DropPath(drop_prob=0.013)\n",
      "drop path: DropPath(drop_prob=0.026)\n",
      "drop path: DropPath(drop_prob=0.039)\n",
      "drop path: DropPath(drop_prob=0.052)\n",
      "drop path: DropPath(drop_prob=0.065)\n",
      "drop path: DropPath(drop_prob=0.078)\n",
      "drop path: DropPath(drop_prob=0.091)\n",
      "drop path: DropPath(drop_prob=0.104)\n",
      "drop path: DropPath(drop_prob=0.117)\n",
      "drop path: DropPath(drop_prob=0.130)\n",
      "drop path: DropPath(drop_prob=0.143)\n",
      "drop path: DropPath(drop_prob=0.157)\n",
      "drop path: DropPath(drop_prob=0.170)\n",
      "drop path: DropPath(drop_prob=0.183)\n",
      "drop path: DropPath(drop_prob=0.196)\n",
      "drop path: DropPath(drop_prob=0.209)\n",
      "drop path: DropPath(drop_prob=0.222)\n",
      "drop path: DropPath(drop_prob=0.235)\n",
      "drop path: DropPath(drop_prob=0.248)\n",
      "drop path: DropPath(drop_prob=0.261)\n",
      "drop path: DropPath(drop_prob=0.274)\n",
      "drop path: DropPath(drop_prob=0.287)\n",
      "drop path: DropPath(drop_prob=0.300)\n",
      "torch.Size([256, 256, 3])\n",
      "torch.Size([1, 3, 256, 256])\n"
     ]
    },
    {
     "name": "stderr",
     "output_type": "stream",
     "text": [
      "/home/l/anaconda3/envs/deepfake_detect/lib/python3.9/site-packages/torch/_dynamo/eval_frame.py:745: UserWarning: torch.utils.checkpoint: the use_reentrant parameter should be passed explicitly. In version 2.5 we will raise an exception if use_reentrant is not passed. use_reentrant=False is recommended, but if you need to preserve the current default behavior, you can pass use_reentrant=True. Refer to docs for more details on the differences between the two variants.\n",
      "  return fn(*args, **kwargs)\n"
     ]
    },
    {
     "name": "stdout",
     "output_type": "stream",
     "text": [
      "tensor([[ 0.0228, -0.0092]], grad_fn=<AddmmBackward0>)\n",
      "tensor(0.6773, grad_fn=<NllLossBackward0>)\n"
     ]
    }
   ],
   "source": [
    "import sys\n",
    "sys.path.append('/home/l/test_self/deepfake_detect')\n",
    "\n",
    "import cv2\n",
    "import numpy as np\n",
    "import torch\n",
    "from model.replknet import *\n",
    "\n",
    "# 读取图片\n",
    "image = cv2.imread(\"/home/l/test_self/deepfake_detect/data/archive/real_vs_fake/real-vs-fake/test/fake/0COHPC8N1I.jpg\")  # 请替换成你的图片路径\n",
    "# OpenCV 读取的是 BGR 格式，需要转换为 RGB\n",
    "image_rgb = cv2.cvtColor(image, cv2.COLOR_BGR2RGB)\n",
    "\n",
    "# 获取 RGB 矩阵\n",
    "rgb_matrix = np.array(image_rgb)\n",
    "print(rgb_matrix.shape)  # (height, width, 3)\n",
    "\n",
    "model=create_RepLKNet31B(num_classes=2)\n",
    "\n",
    "x=torch.Tensor(rgb_matrix)\n",
    "\n",
    "print(x.shape)\n",
    "\n",
    "# 转换为 float32 类型并归一化\n",
    "rgb_matrix = rgb_matrix.astype(np.float32) / 255.0\n",
    "\n",
    "# 转换为 tensor，并调整维度顺序\n",
    "x = torch.from_numpy(rgb_matrix).permute(2, 0, 1).unsqueeze(0)  # (1, 3, 256, 256)\n",
    "\n",
    "print(x.shape)  # 现在应该是 torch.Size([1, 3, 256, 256])\n",
    "\n",
    "res=model(x)\n",
    "\n",
    "print(res)\n",
    "\n",
    "label=torch.tensor([1])\n",
    "\n",
    "loss_crossloss=torch.nn.CrossEntropyLoss()\n",
    "\n",
    "loss_sigmoid=torch.nn.BCEWithLogitsLoss()\n",
    "\n",
    "# 假设标签是类别 0（真实），注意是 int 类型，不需要 one-hot\n",
    "target = torch.tensor([0])  # [batch_size]，对应于类别索引\n",
    "\n",
    "loss=loss_crossloss(res,target)\n",
    "\n",
    "print(loss)"
   ]
  }
 ],
 "metadata": {
  "kernelspec": {
   "display_name": "deepfake_detect",
   "language": "python",
   "name": "python3"
  },
  "language_info": {
   "codemirror_mode": {
    "name": "ipython",
    "version": 3
   },
   "file_extension": ".py",
   "mimetype": "text/x-python",
   "name": "python",
   "nbconvert_exporter": "python",
   "pygments_lexer": "ipython3",
   "version": "3.9.0"
  }
 },
 "nbformat": 4,
 "nbformat_minor": 2
}
